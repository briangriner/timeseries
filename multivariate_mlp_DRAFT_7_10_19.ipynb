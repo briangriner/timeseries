{
  "nbformat": 4,
  "nbformat_minor": 0,
  "metadata": {
    "colab": {
      "name": "multivariate_mlp_DRAFT_7_10_19.ipynb",
      "version": "0.3.2",
      "provenance": [],
      "collapsed_sections": []
    },
    "kernelspec": {
      "name": "python3",
      "display_name": "Python 3"
    }
  },
  "cells": [
    {
      "cell_type": "markdown",
      "metadata": {
        "id": "6i4pVUgN_Sk6",
        "colab_type": "text"
      },
      "source": [
        "## Multivariate Time Series Modeling\n",
        "\n",
        "**1.Load data from local device using colab import files upload method**"
      ]
    },
    {
      "cell_type": "code",
      "metadata": {
        "id": "-_7zeDogtyl7",
        "colab_type": "code",
        "outputId": "21e23a36-9f07-44f1-9cce-d1defd6218c9",
        "colab": {
          "resources": {
            "http://localhost:8080/nbextensions/google.colab/files.js": {
              "data": "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",
              "ok": true,
              "headers": [
                [
                  "content-type",
                  "application/javascript"
                ]
              ],
              "status": 200,
              "status_text": ""
            }
          },
          "base_uri": "https://localhost:8080/",
          "height": 75
        }
      },
      "source": [
        "# import colab files method and upload data\n",
        "from google.colab import files\n",
        "files.upload()"
      ],
      "execution_count": 1,
      "outputs": [
        {
          "output_type": "display_data",
          "data": {
            "text/html": [
              "\n",
              "     <input type=\"file\" id=\"files-6a7c7f9b-03cf-45db-b2d8-5dfbf0ccf788\" name=\"files[]\" multiple disabled />\n",
              "     <output id=\"result-6a7c7f9b-03cf-45db-b2d8-5dfbf0ccf788\">\n",
              "      Upload widget is only available when the cell has been executed in the\n",
              "      current browser session. Please rerun this cell to enable.\n",
              "      </output>\n",
              "      <script src=\"/nbextensions/google.colab/files.js\"></script> "
            ],
            "text/plain": [
              "<IPython.core.display.HTML object>"
            ]
          },
          "metadata": {
            "tags": []
          }
        },
        {
          "output_type": "stream",
          "text": [
            "Saving stocks.txt to stocks.txt\n"
          ],
          "name": "stdout"
        }
      ]
    },
    {
      "cell_type": "code",
      "metadata": {
        "id": "AKCY7YaGsdh3",
        "colab_type": "code",
        "colab": {
          "base_uri": "https://localhost:8080/",
          "height": 1000
        },
        "outputId": "f7603770-c6e8-47fc-ffe3-a6d1873c9bcd"
      },
      "source": [
        "# Check data upload to colab\n",
        "\n",
        "# import libs\n",
        "import numpy as np\n",
        "import pandas as pd\n",
        "\n",
        "# set numeric format\n",
        "pd.options.display.float_format = '{:,.2f}'.format\n",
        "\n",
        "# create data objects\n",
        "\n",
        "stocks = pd.read_csv('stocks.txt', sep='\\t')\n",
        "\n",
        "# QC data\n",
        "print(stocks.head())\n",
        "print(stocks.tail())\n",
        "print(stocks.describe().T)\n",
        "print(stocks[stocks['DATE'].str.contains(\"JAN17|FEB17|MAR17|APR17|MAY17|JUN17|JUL17|AUG17|SEP17|OCT17|NOV17|DEC17\", na=False)]).nunique()\n",
        "# df[df['ids'].str.contains(\"ball\")]\n",
        "# print(stocks[['TICKER','DATE']].groupby('DATE')['TICKER'].nunique())"
      ],
      "execution_count": 42,
      "outputs": [
        {
          "output_type": "stream",
          "text": [
            "  TICKER      DATE  TREND  ...  THIRD DERIVATIVE  FOURTH DERIVATIVE  Unnamed: 10\n",
            "0     A   06SEP16       1  ...             -0.00               0.00          nan\n",
            "1     A   07SEP16       2  ...              0.01               0.01          nan\n",
            "2     A   08SEP16       3  ...             -0.01              -0.02          nan\n",
            "3     A   09SEP16       4  ...             -0.04              -0.03          nan\n",
            "4     A   12SEP16       5  ...              0.11               0.15          nan\n",
            "\n",
            "[5 rows x 11 columns]\n",
            "       TICKER      DATE  ...  FOURTH DERIVATIVE  Unnamed: 10\n",
            "598720  ZYNE   21JUL17   ...               0.06          nan\n",
            "598721  ZYNE   24JUL17   ...              -0.06          nan\n",
            "598722  ZYNE   25JUL17   ...              -0.05          nan\n",
            "598723  ZYNE   26JUL17   ...               0.20          nan\n",
            "598724  ZYNE   27JUL17   ...              -0.23          nan\n",
            "\n",
            "[5 rows x 11 columns]\n",
            "                       count   mean   std    min   25%    50%    75%      max\n",
            "TREND             598,725.00 113.00 64.95   1.00 57.00 113.00 169.00   225.00\n",
            "RAWPRICE          598,725.00  41.54 64.10   0.00 10.96  25.49  53.09 2,033.21\n",
            "LOGPRICE          598,725.00   3.18  1.13   0.00  2.48   3.28   3.99     7.62\n",
            "RETURNS           598,725.00   0.00  0.03  -1.84 -0.01   0.00   0.01     3.28\n",
            "FIRST DERIVATIVE  598,725.00   0.00  0.04  -3.27 -0.01   0.00   0.01     4.38\n",
            "SECOND DERIVATIVE 598,725.00  -0.00  0.05  -4.44 -0.01  -0.00   0.01     6.47\n",
            "THIRD DERIVATIVE  598,725.00  -0.00  0.09  -9.85 -0.03  -0.00   0.03     9.66\n",
            "FOURTH DERIVATIVE 598,725.00   0.00  0.17 -19.51 -0.05  -0.00   0.05    13.77\n",
            "Unnamed: 10             0.00    nan   nan    nan   nan    nan    nan      nan\n",
            "       TICKER      DATE  ...  FOURTH DERIVATIVE  Unnamed: 10\n",
            "82         A   03JAN17   ...               0.04          nan\n",
            "83         A   04JAN17   ...              -0.05          nan\n",
            "84         A   05JAN17   ...               0.01          nan\n",
            "85         A   06JAN17   ...               0.09          nan\n",
            "86         A   09JAN17   ...              -0.14          nan\n",
            "87         A   10JAN17   ...               0.09          nan\n",
            "88         A   11JAN17   ...               0.00          nan\n",
            "89         A   12JAN17   ...              -0.09          nan\n",
            "90         A   13JAN17   ...               0.12          nan\n",
            "91         A   17JAN17   ...              -0.09          nan\n",
            "92         A   18JAN17   ...               0.05          nan\n",
            "93         A   19JAN17   ...              -0.03          nan\n",
            "94         A   20JAN17   ...               0.04          nan\n",
            "95         A   23JAN17   ...              -0.04          nan\n",
            "96         A   24JAN17   ...               0.03          nan\n",
            "97         A   25JAN17   ...               0.01          nan\n",
            "98         A   26JAN17   ...              -0.07          nan\n",
            "99         A   27JAN17   ...               0.09          nan\n",
            "100        A   30JAN17   ...              -0.09          nan\n",
            "101        A   31JAN17   ...               0.12          nan\n",
            "102        A   01FEB17   ...              -0.15          nan\n",
            "103        A   02FEB17   ...               0.08          nan\n",
            "104        A   03FEB17   ...               0.02          nan\n",
            "105        A   06FEB17   ...              -0.06          nan\n",
            "106        A   07FEB17   ...               0.05          nan\n",
            "107        A   08FEB17   ...              -0.03          nan\n",
            "108        A   09FEB17   ...               0.02          nan\n",
            "109        A   10FEB17   ...              -0.02          nan\n",
            "110        A   13FEB17   ...               0.04          nan\n",
            "111        A   14FEB17   ...              -0.03          nan\n",
            "...       ...       ...  ...                ...          ...\n",
            "598695  ZYNE   15JUN17   ...               0.35          nan\n",
            "598696  ZYNE   16JUN17   ...              -0.03          nan\n",
            "598697  ZYNE   19JUN17   ...              -0.06          nan\n",
            "598698  ZYNE   20JUN17   ...              -0.07          nan\n",
            "598699  ZYNE   21JUN17   ...               0.08          nan\n",
            "598700  ZYNE   22JUN17   ...               0.01          nan\n",
            "598701  ZYNE   23JUN17   ...               0.06          nan\n",
            "598702  ZYNE   26JUN17   ...              -0.15          nan\n",
            "598703  ZYNE   27JUN17   ...               0.07          nan\n",
            "598704  ZYNE   28JUN17   ...               0.02          nan\n",
            "598705  ZYNE   29JUN17   ...              -0.01          nan\n",
            "598706  ZYNE   30JUN17   ...              -0.03          nan\n",
            "598707  ZYNE   03JUL17   ...               0.12          nan\n",
            "598708  ZYNE   05JUL17   ...              -0.12          nan\n",
            "598709  ZYNE   06JUL17   ...              -0.03          nan\n",
            "598710  ZYNE   07JUL17   ...               0.14          nan\n",
            "598711  ZYNE   10JUL17   ...              -0.14          nan\n",
            "598712  ZYNE   11JUL17   ...               0.09          nan\n",
            "598713  ZYNE   12JUL17   ...              -0.01          nan\n",
            "598714  ZYNE   13JUL17   ...              -0.08          nan\n",
            "598715  ZYNE   14JUL17   ...               0.15          nan\n",
            "598716  ZYNE   17JUL17   ...              -0.17          nan\n",
            "598717  ZYNE   18JUL17   ...               0.21          nan\n",
            "598718  ZYNE   19JUL17   ...              -0.17          nan\n",
            "598719  ZYNE   20JUL17   ...               0.04          nan\n",
            "598720  ZYNE   21JUL17   ...               0.06          nan\n",
            "598721  ZYNE   24JUL17   ...              -0.06          nan\n",
            "598722  ZYNE   25JUL17   ...              -0.05          nan\n",
            "598723  ZYNE   26JUL17   ...               0.20          nan\n",
            "598724  ZYNE   27JUL17   ...              -0.23          nan\n",
            "\n",
            "[380523 rows x 11 columns]\n"
          ],
          "name": "stdout"
        },
        {
          "output_type": "error",
          "ename": "AttributeError",
          "evalue": "ignored",
          "traceback": [
            "\u001b[0;31m---------------------------------------------------------------------------\u001b[0m",
            "\u001b[0;31mAttributeError\u001b[0m                            Traceback (most recent call last)",
            "\u001b[0;32m<ipython-input-42-75a0912da118>\u001b[0m in \u001b[0;36m<module>\u001b[0;34m()\u001b[0m\n\u001b[1;32m     13\u001b[0m \u001b[0mprint\u001b[0m\u001b[0;34m(\u001b[0m\u001b[0mstocks\u001b[0m\u001b[0;34m.\u001b[0m\u001b[0mtail\u001b[0m\u001b[0;34m(\u001b[0m\u001b[0;34m)\u001b[0m\u001b[0;34m)\u001b[0m\u001b[0;34m\u001b[0m\u001b[0;34m\u001b[0m\u001b[0m\n\u001b[1;32m     14\u001b[0m \u001b[0mprint\u001b[0m\u001b[0;34m(\u001b[0m\u001b[0mstocks\u001b[0m\u001b[0;34m.\u001b[0m\u001b[0mdescribe\u001b[0m\u001b[0;34m(\u001b[0m\u001b[0;34m)\u001b[0m\u001b[0;34m.\u001b[0m\u001b[0mT\u001b[0m\u001b[0;34m)\u001b[0m\u001b[0;34m\u001b[0m\u001b[0;34m\u001b[0m\u001b[0m\n\u001b[0;32m---> 15\u001b[0;31m \u001b[0mprint\u001b[0m\u001b[0;34m(\u001b[0m\u001b[0mstocks\u001b[0m\u001b[0;34m[\u001b[0m\u001b[0mstocks\u001b[0m\u001b[0;34m[\u001b[0m\u001b[0;34m'DATE'\u001b[0m\u001b[0;34m]\u001b[0m\u001b[0;34m.\u001b[0m\u001b[0mstr\u001b[0m\u001b[0;34m.\u001b[0m\u001b[0mcontains\u001b[0m\u001b[0;34m(\u001b[0m\u001b[0;34m\"JAN17|FEB17|MAR17|APR17|MAY17|JUN17|JUL17|AUG17|SEP17|OCT17|NOV17|DEC17\"\u001b[0m\u001b[0;34m,\u001b[0m \u001b[0mna\u001b[0m\u001b[0;34m=\u001b[0m\u001b[0;32mFalse\u001b[0m\u001b[0;34m)\u001b[0m\u001b[0;34m]\u001b[0m\u001b[0;34m)\u001b[0m\u001b[0;34m.\u001b[0m\u001b[0mnunique\u001b[0m\u001b[0;34m(\u001b[0m\u001b[0;34m)\u001b[0m\u001b[0;34m\u001b[0m\u001b[0;34m\u001b[0m\u001b[0m\n\u001b[0m\u001b[1;32m     16\u001b[0m \u001b[0;31m# df[df['ids'].str.contains(\"ball\")]\u001b[0m\u001b[0;34m\u001b[0m\u001b[0;34m\u001b[0m\u001b[0;34m\u001b[0m\u001b[0m\n\u001b[1;32m     17\u001b[0m \u001b[0;31m# print(stocks[['TICKER','DATE']].groupby('DATE')['TICKER'].nunique())\u001b[0m\u001b[0;34m\u001b[0m\u001b[0;34m\u001b[0m\u001b[0;34m\u001b[0m\u001b[0m\n",
            "\u001b[0;31mAttributeError\u001b[0m: 'NoneType' object has no attribute 'nunique'"
          ]
        }
      ]
    },
    {
      "cell_type": "code",
      "metadata": {
        "id": "xE3E90vrC8pe",
        "colab_type": "code",
        "colab": {
          "base_uri": "https://localhost:8080/",
          "height": 221
        },
        "outputId": "bf3f8c4d-a5b6-4d07-d562-1ddc35b90502"
      },
      "source": [
        "print(stocks[stocks['DATE'].str.contains(\"JAN|FEB\")]) "
      ],
      "execution_count": 33,
      "outputs": [
        {
          "output_type": "stream",
          "text": [
            "TICKER                 2661\n",
            "DATE                     39\n",
            "TREND                    39\n",
            "RAWPRICE              16159\n",
            "LOGPRICE              16159\n",
            "RETURNS               79788\n",
            "FIRST DERIVATIVE      77952\n",
            "SECOND DERIVATIVE     98245\n",
            "THIRD DERIVATIVE     102188\n",
            "FOURTH DERIVATIVE    103456\n",
            "Unnamed: 10               0\n",
            "dtype: int64\n"
          ],
          "name": "stdout"
        }
      ]
    },
    {
      "cell_type": "markdown",
      "metadata": {
        "id": "cU2NZbl8TCSH",
        "colab_type": "text"
      },
      "source": [
        "**USER INPUTS**\n",
        "1. csv training filename\n",
        "2. csv test filename\n",
        "3. column name to filter for single output"
      ]
    },
    {
      "cell_type": "code",
      "metadata": {
        "colab_type": "code",
        "id": "uPojSHuJVJ65",
        "colab": {}
      },
      "source": [
        "# ENTER USER INPUTS BELOW:\n",
        "\n",
        "# 1. csv training filename (inside quotes)\n",
        "train_csv = 'DailyStockDataSample_5Tickers_train.csv'\n",
        "\n",
        "# 2. csv test filename (inside quotes)\n",
        "test_csv = 'DailyStockDataSample_5Tickers_test.csv'\n",
        "\n",
        "# 3. filter column name (for single output example)\n",
        "filter_colname = 'AIZ'\n",
        "\n",
        "# 4. train: inputs + output colnames in list with quotes\n",
        "inputs_output_colnames_list = ['X1','X2','X3','X4','LOG PRICE']\n",
        "\n",
        "# 5. test: inputs colnames in list with quotes\n",
        "inputs_colnames_list = ['X1','X2','X3','X4']\n",
        "\n",
        "# 6. number input time steps for model\n",
        "n_in_steps = 3\n",
        "\n",
        "# 7. number output time steps to predict\n",
        "n_out_steps = 2\n",
        "\n",
        "# 8. number inputs\n",
        "n_in = 4\n"
      ],
      "execution_count": 0,
      "outputs": []
    },
    {
      "cell_type": "markdown",
      "metadata": {
        "id": "lhDNn-wP_8LN",
        "colab_type": "text"
      },
      "source": [
        "**2. Import libraries and set output format**"
      ]
    },
    {
      "cell_type": "code",
      "metadata": {
        "id": "QwbPcD4k2ymo",
        "colab_type": "code",
        "colab": {}
      },
      "source": [
        "# import libs\n",
        "import numpy as np\n",
        "import pandas as pd\n",
        "\n",
        "# set numeric format\n",
        "pd.options.display.float_format = '{:,.2f}'.format"
      ],
      "execution_count": 0,
      "outputs": []
    },
    {
      "cell_type": "markdown",
      "metadata": {
        "id": "-3Ka_ILlBKQN",
        "colab_type": "text"
      },
      "source": [
        "**3. Read csv files + QC check**"
      ]
    },
    {
      "cell_type": "code",
      "metadata": {
        "id": "-0CGgrD6BbTB",
        "colab_type": "code",
        "outputId": "9d782468-2e31-4ce4-9953-3cb07f5f43fa",
        "colab": {
          "base_uri": "https://localhost:8080/",
          "height": 230
        }
      },
      "source": [
        "# create data objects\n",
        "\n",
        "train = pd.read_csv(train_csv)\n",
        "test = pd.read_csv(test_csv)\n",
        "\n",
        "# QC data\n",
        "print(train.head())\n",
        "print(test.head())"
      ],
      "execution_count": 0,
      "outputs": [
        {
          "output_type": "stream",
          "text": [
            "   LOG PRICE    X1    X2    X3    X4  AIZ  DUK  NML  SEAS  SMLP  DAY\n",
            "0       4.51 -0.00 -0.01 -0.03 -0.05    1    0    0     0     0    1\n",
            "1       4.51  0.00  0.01  0.02  0.05    1    0    0     0     0    2\n",
            "2       4.51 -0.00 -0.01 -0.01 -0.03    1    0    0     0     0    3\n",
            "3       4.50 -0.01 -0.01 -0.00  0.01    1    0    0     0     0    4\n",
            "4       4.51  0.01  0.02  0.03  0.03    1    0    0     0     0    5\n",
            "   LOG PRICE    X1    X2    X3    X4  AIZ  DUK  NML  SEAS  SMLP  DAY\n",
            "0       4.51 -0.00  0.01  0.03  0.04    1    0    0     0     0   15\n",
            "1       4.52  0.01  0.01  0.00 -0.03    1    0    0     0     0   16\n",
            "2       4.53  0.01  0.00 -0.01 -0.01    1    0    0     0     0   17\n",
            "3       4.53 -0.00 -0.01 -0.02 -0.01    1    0    0     0     0   18\n",
            "4       4.54  0.01  0.01  0.03  0.04    1    0    0     0     0   19\n"
          ],
          "name": "stdout"
        }
      ]
    },
    {
      "cell_type": "markdown",
      "metadata": {
        "id": "JSShLsJKCv-f",
        "colab_type": "text"
      },
      "source": [
        "**4. Multivariate mlp (multiple inputs / single output) - multistep prediction (multiple period output prediction without forecasting input series)**"
      ]
    },
    {
      "cell_type": "markdown",
      "metadata": {
        "id": "DHqdqKGkKdqp",
        "colab_type": "text"
      },
      "source": [
        "### multivariate multi-step mlp vector model\n",
        "\n",
        "**Description**\n",
        "\n",
        "*1. Data prep step:*\n",
        "* *Panel data must be split into samples*\n",
        "* *Sample contains a sequence of time periods for inputs and the output*\n",
        "* *Each sample represents the inputs/output sequence in the next time period* \n",
        "\n",
        ">  **time series example (3 time period sequences):** \n",
        "\n",
        "> **X1:** 0, 1, 2, 3, 4\n",
        "\n",
        "> **X2:** 5, 6, 7, 8\n",
        "\n",
        "> **y:** 9, 10, 11, 12\n",
        "\n",
        "> * **1st sample:** 0, 1, 2\n",
        "\n",
        ">  * **2nd sample:** 1, 2, 3\n",
        "\n",
        "> * **3rd sample:** 2, 3, 4"
      ]
    },
    {
      "cell_type": "markdown",
      "metadata": {
        "id": "rgHdhTHvR9kU",
        "colab_type": "text"
      },
      "source": [
        "**aiz as example of multivariate input/single output with multi time step prediction**"
      ]
    },
    {
      "cell_type": "code",
      "metadata": {
        "id": "YBJxGALlJ8vr",
        "colab_type": "code",
        "outputId": "905d5340-edb4-4b47-8561-22bc2e0613f7",
        "colab": {
          "base_uri": "https://localhost:8080/",
          "height": 301
        }
      },
      "source": [
        "# aiz - multivariate input/single output - multi step\n",
        "\n",
        "# training data prep\n",
        "\n",
        "df_train = train.loc[train['AIZ']==1] [inputs_output_colnames_list]\n",
        "print(df_train.head())\n",
        "\n",
        "# convert pandas dataframe train to numpy array\n",
        "ar_train = df_train.to_numpy()\n",
        "print('numpy array dimensions: train')\n",
        "print(ar_train.shape)\n",
        "\n",
        "\n",
        "# test data prep\n",
        "\n",
        "df_test = test.loc[test['AIZ']==1] [inputs_colnames_list]\n",
        "print(df_test.head())\n",
        "\n",
        "# convert pandas dataframe train to numpy array\n",
        "ar_test = df_test.to_numpy()\n",
        "print('numpy array dimensions: test')\n",
        "print(ar_test.shape)"
      ],
      "execution_count": 0,
      "outputs": [
        {
          "output_type": "stream",
          "text": [
            "     X1    X2    X3    X4  LOG PRICE\n",
            "0 -0.00 -0.01 -0.03 -0.05       4.51\n",
            "1  0.00  0.01  0.02  0.05       4.51\n",
            "2 -0.00 -0.01 -0.01 -0.03       4.51\n",
            "3 -0.01 -0.01 -0.00  0.01       4.50\n",
            "4  0.01  0.02  0.03  0.03       4.51\n",
            "numpy array dimensions: train\n",
            "(14, 5)\n",
            "     X1    X2    X3    X4\n",
            "0 -0.00  0.01  0.03  0.04\n",
            "1  0.01  0.01  0.00 -0.03\n",
            "2  0.01  0.00 -0.01 -0.01\n",
            "3 -0.00 -0.01 -0.02 -0.01\n",
            "4  0.01  0.01  0.03  0.04\n",
            "numpy array dimensions: test\n",
            "(6, 4)\n"
          ],
          "name": "stdout"
        }
      ]
    },
    {
      "cell_type": "code",
      "metadata": {
        "id": "mlUJaqXjKd88",
        "colab_type": "code",
        "outputId": "f6cf3a75-2470-48bf-d5f9-3676b0b053b5",
        "colab": {
          "base_uri": "https://localhost:8080/",
          "height": 123
        }
      },
      "source": [
        "# multivariate multi-step mlp example\n",
        "from numpy import array\n",
        "from numpy import hstack\n",
        "from keras.models import Sequential\n",
        "from keras.layers import Dense\n",
        "\n",
        "# split a multivariate sequence into samples\n",
        "def split_sequences(sequences, n_steps_in, n_steps_out):\n",
        "\tX, y = list(), list()\n",
        "\tfor i in range(len(sequences)):\n",
        "\t\t# find the end of this pattern\n",
        "\t\tend_ix = i + n_steps_in\n",
        "\t\tout_end_ix = end_ix + n_steps_out-1\n",
        "\t\t# check if we are beyond the dataset\n",
        "\t\tif out_end_ix > len(sequences):\n",
        "\t\t\tbreak\n",
        "\t\t# gather input and output parts of the pattern\n",
        "\t\tseq_x, seq_y = sequences[i:end_ix, :-1], sequences[end_ix-1:out_end_ix, -1]\n",
        "\t\tX.append(seq_x)\n",
        "\t\ty.append(seq_y)\n",
        "\treturn array(X), array(y)\n",
        "\n",
        "# horizontally stack columns (ALREADY IN STACKED FORMAT FROM TOM)\n",
        "dataset = ar_train\n",
        "\n",
        "# choose a number of time steps (FOR MLP INPUT/OUTPUT SAMPLE)\n",
        "n_steps_in, n_steps_out = n_in_steps, n_out_steps\n",
        "\n",
        "# convert into input/output samples\n",
        "X, y = split_sequences(dataset, n_steps_in, n_steps_out)\n",
        "\n",
        "# flatten input (TO SPEED UP CALCULATIONS IN TF)\n",
        "n_input = X.shape[1] * X.shape[2]  # - FLATTENED NUMBER OF COLUMNS IN INPUT SAMPLE\n",
        "X = X.reshape((X.shape[0], n_input)) # CREATES FLATTENED INPUT SAMPLE\n",
        "\n",
        "# define model\n",
        "model = Sequential()\n",
        "model.add(Dense(100, activation='relu', input_dim=n_input))\n",
        "model.add(Dense(n_steps_out))\n",
        "model.compile(optimizer='adam', loss='mse')\n",
        "# fit model\n",
        "model.fit(X, y, epochs=2000, verbose=0)\n",
        "\n",
        "# predict test data \n",
        "n_input = n_steps_in*n_in  # number input time steps (3) * number inputs (4) in test data\n",
        "print('n_input: ', n_input)\n",
        "x_input = ar_test  \n",
        "print('len(x_input): ', len(x_input))\n",
        "print('n_steps_in: ', n_steps_in)\n",
        "n_samples_test = int(len(x_input) / n_steps_in)\n",
        "print('n_samples_test: ', n_samples_test)\n",
        "x_input = x_input.reshape((n_samples_test, n_input))  # number samples, number flattened inputs\n",
        "yhat = model.predict(x_input, verbose=0)\n",
        "print(yhat)"
      ],
      "execution_count": 0,
      "outputs": [
        {
          "output_type": "stream",
          "text": [
            "n_input:  12\n",
            "len(x_input):  6\n",
            "n_steps_in:  3\n",
            "n_samples_test:  2\n",
            "[[4.5046487 4.5124807]\n",
            " [4.497058  4.498165 ]]\n"
          ],
          "name": "stdout"
        }
      ]
    }
  ]
}